from pyspark.sql import SparkSession
from pyspark.ml.feature import VectorAssembler
from pyspark.ml.regression import LinearRegression

spark = SparkSession.builder.appName("RetailForecast").getOrCreate()
df = spark.read.csv("/mnt/data/retail_sales.csv", header=True, inferSchema=True)

assembler = VectorAssembler(inputCols=["week", "store_id"], outputCol="features")
train_data = assembler.transform(df).select("features", "revenue")

lr = LinearRegression(labelCol="revenue")
model = lr.fit(train_data)
predictions = model.transform(train_data)
predictions.select("features", "revenue", "prediction").show()
